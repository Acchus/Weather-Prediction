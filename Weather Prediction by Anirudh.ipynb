{
 "cells": [
  {
   "cell_type": "code",
   "execution_count": 1,
   "id": "39eeca0b",
   "metadata": {},
   "outputs": [],
   "source": [
    "import pandas as pd\n",
    "import numpy as np\n",
    "import seaborn as sns\n",
    "import matplotlib.pyplot as plt\n",
    "%matplotlib inline\n",
    "import warnings\n",
    "warnings.filterwarnings(\"ignore\")"
   ]
  },
  {
   "cell_type": "markdown",
   "id": "d8c382ba",
   "metadata": {},
   "source": [
    "# Seattle weather is the name of our dataset and we are going to build a model which will predict the weather. Let us understand the dataset."
   ]
  },
  {
   "cell_type": "code",
   "execution_count": 2,
   "id": "fb16d6b4",
   "metadata": {},
   "outputs": [
    {
     "data": {
      "text/html": [
       "<div>\n",
       "<style scoped>\n",
       "    .dataframe tbody tr th:only-of-type {\n",
       "        vertical-align: middle;\n",
       "    }\n",
       "\n",
       "    .dataframe tbody tr th {\n",
       "        vertical-align: top;\n",
       "    }\n",
       "\n",
       "    .dataframe thead th {\n",
       "        text-align: right;\n",
       "    }\n",
       "</style>\n",
       "<table border=\"1\" class=\"dataframe\">\n",
       "  <thead>\n",
       "    <tr style=\"text-align: right;\">\n",
       "      <th></th>\n",
       "      <th>date</th>\n",
       "      <th>precipitation</th>\n",
       "      <th>temp_max</th>\n",
       "      <th>temp_min</th>\n",
       "      <th>wind</th>\n",
       "      <th>weather</th>\n",
       "    </tr>\n",
       "  </thead>\n",
       "  <tbody>\n",
       "    <tr>\n",
       "      <th>0</th>\n",
       "      <td>2012-01-01</td>\n",
       "      <td>0.0</td>\n",
       "      <td>12.8</td>\n",
       "      <td>5.0</td>\n",
       "      <td>4.7</td>\n",
       "      <td>drizzle</td>\n",
       "    </tr>\n",
       "    <tr>\n",
       "      <th>1</th>\n",
       "      <td>2012-01-02</td>\n",
       "      <td>10.9</td>\n",
       "      <td>10.6</td>\n",
       "      <td>2.8</td>\n",
       "      <td>4.5</td>\n",
       "      <td>rain</td>\n",
       "    </tr>\n",
       "    <tr>\n",
       "      <th>2</th>\n",
       "      <td>2012-01-03</td>\n",
       "      <td>0.8</td>\n",
       "      <td>11.7</td>\n",
       "      <td>7.2</td>\n",
       "      <td>2.3</td>\n",
       "      <td>rain</td>\n",
       "    </tr>\n",
       "    <tr>\n",
       "      <th>3</th>\n",
       "      <td>2012-01-04</td>\n",
       "      <td>20.3</td>\n",
       "      <td>12.2</td>\n",
       "      <td>5.6</td>\n",
       "      <td>4.7</td>\n",
       "      <td>rain</td>\n",
       "    </tr>\n",
       "    <tr>\n",
       "      <th>4</th>\n",
       "      <td>2012-01-05</td>\n",
       "      <td>1.3</td>\n",
       "      <td>8.9</td>\n",
       "      <td>2.8</td>\n",
       "      <td>6.1</td>\n",
       "      <td>rain</td>\n",
       "    </tr>\n",
       "    <tr>\n",
       "      <th>...</th>\n",
       "      <td>...</td>\n",
       "      <td>...</td>\n",
       "      <td>...</td>\n",
       "      <td>...</td>\n",
       "      <td>...</td>\n",
       "      <td>...</td>\n",
       "    </tr>\n",
       "    <tr>\n",
       "      <th>1456</th>\n",
       "      <td>2015-12-27</td>\n",
       "      <td>8.6</td>\n",
       "      <td>4.4</td>\n",
       "      <td>1.7</td>\n",
       "      <td>2.9</td>\n",
       "      <td>rain</td>\n",
       "    </tr>\n",
       "    <tr>\n",
       "      <th>1457</th>\n",
       "      <td>2015-12-28</td>\n",
       "      <td>1.5</td>\n",
       "      <td>5.0</td>\n",
       "      <td>1.7</td>\n",
       "      <td>1.3</td>\n",
       "      <td>rain</td>\n",
       "    </tr>\n",
       "    <tr>\n",
       "      <th>1458</th>\n",
       "      <td>2015-12-29</td>\n",
       "      <td>0.0</td>\n",
       "      <td>7.2</td>\n",
       "      <td>0.6</td>\n",
       "      <td>2.6</td>\n",
       "      <td>fog</td>\n",
       "    </tr>\n",
       "    <tr>\n",
       "      <th>1459</th>\n",
       "      <td>2015-12-30</td>\n",
       "      <td>0.0</td>\n",
       "      <td>5.6</td>\n",
       "      <td>-1.0</td>\n",
       "      <td>3.4</td>\n",
       "      <td>sun</td>\n",
       "    </tr>\n",
       "    <tr>\n",
       "      <th>1460</th>\n",
       "      <td>2015-12-31</td>\n",
       "      <td>0.0</td>\n",
       "      <td>5.6</td>\n",
       "      <td>-2.1</td>\n",
       "      <td>3.5</td>\n",
       "      <td>sun</td>\n",
       "    </tr>\n",
       "  </tbody>\n",
       "</table>\n",
       "<p>1461 rows × 6 columns</p>\n",
       "</div>"
      ],
      "text/plain": [
       "            date  precipitation  temp_max  temp_min  wind  weather\n",
       "0     2012-01-01            0.0      12.8       5.0   4.7  drizzle\n",
       "1     2012-01-02           10.9      10.6       2.8   4.5     rain\n",
       "2     2012-01-03            0.8      11.7       7.2   2.3     rain\n",
       "3     2012-01-04           20.3      12.2       5.6   4.7     rain\n",
       "4     2012-01-05            1.3       8.9       2.8   6.1     rain\n",
       "...          ...            ...       ...       ...   ...      ...\n",
       "1456  2015-12-27            8.6       4.4       1.7   2.9     rain\n",
       "1457  2015-12-28            1.5       5.0       1.7   1.3     rain\n",
       "1458  2015-12-29            0.0       7.2       0.6   2.6      fog\n",
       "1459  2015-12-30            0.0       5.6      -1.0   3.4      sun\n",
       "1460  2015-12-31            0.0       5.6      -2.1   3.5      sun\n",
       "\n",
       "[1461 rows x 6 columns]"
      ]
     },
     "execution_count": 2,
     "metadata": {},
     "output_type": "execute_result"
    }
   ],
   "source": [
    "df = pd.read_csv(\"seattle-weather.csv\")\n",
    "df"
   ]
  },
  {
   "cell_type": "markdown",
   "id": "8a5c0f4b",
   "metadata": {},
   "source": [
    "# Columns are as follows:\n",
    "Date: Shows the date.\n",
    "\n",
    "Percipitation: All forms in which water falls on the land surface and open water bodies as rain, sleet, snow, hail, or drizzle\n",
    "\n",
    "Temp_max: Maximum Temperature.\n",
    "\n",
    "Temp_min: Minimum Temperature.\n",
    "\n",
    "Wind: Wind Speed\n",
    "\n",
    "Weather: What type of weather it is.\n"
   ]
  },
  {
   "cell_type": "code",
   "execution_count": 3,
   "id": "a401d443",
   "metadata": {},
   "outputs": [
    {
     "name": "stdout",
     "output_type": "stream",
     "text": [
      "<class 'pandas.core.frame.DataFrame'>\n",
      "RangeIndex: 1461 entries, 0 to 1460\n",
      "Data columns (total 6 columns):\n",
      " #   Column         Non-Null Count  Dtype  \n",
      "---  ------         --------------  -----  \n",
      " 0   date           1461 non-null   object \n",
      " 1   precipitation  1461 non-null   float64\n",
      " 2   temp_max       1461 non-null   float64\n",
      " 3   temp_min       1461 non-null   float64\n",
      " 4   wind           1461 non-null   float64\n",
      " 5   weather        1461 non-null   object \n",
      "dtypes: float64(4), object(2)\n",
      "memory usage: 68.6+ KB\n"
     ]
    }
   ],
   "source": [
    "df.info()"
   ]
  },
  {
   "cell_type": "markdown",
   "id": "218b42b7",
   "metadata": {},
   "source": [
    "# Description of the dataset"
   ]
  },
  {
   "cell_type": "code",
   "execution_count": 4,
   "id": "04beab5b",
   "metadata": {},
   "outputs": [
    {
     "data": {
      "text/html": [
       "<div>\n",
       "<style scoped>\n",
       "    .dataframe tbody tr th:only-of-type {\n",
       "        vertical-align: middle;\n",
       "    }\n",
       "\n",
       "    .dataframe tbody tr th {\n",
       "        vertical-align: top;\n",
       "    }\n",
       "\n",
       "    .dataframe thead th {\n",
       "        text-align: right;\n",
       "    }\n",
       "</style>\n",
       "<table border=\"1\" class=\"dataframe\">\n",
       "  <thead>\n",
       "    <tr style=\"text-align: right;\">\n",
       "      <th></th>\n",
       "      <th>precipitation</th>\n",
       "      <th>temp_max</th>\n",
       "      <th>temp_min</th>\n",
       "      <th>wind</th>\n",
       "    </tr>\n",
       "  </thead>\n",
       "  <tbody>\n",
       "    <tr>\n",
       "      <th>count</th>\n",
       "      <td>1461.000000</td>\n",
       "      <td>1461.000000</td>\n",
       "      <td>1461.000000</td>\n",
       "      <td>1461.000000</td>\n",
       "    </tr>\n",
       "    <tr>\n",
       "      <th>mean</th>\n",
       "      <td>3.029432</td>\n",
       "      <td>16.439083</td>\n",
       "      <td>8.234771</td>\n",
       "      <td>3.241136</td>\n",
       "    </tr>\n",
       "    <tr>\n",
       "      <th>std</th>\n",
       "      <td>6.680194</td>\n",
       "      <td>7.349758</td>\n",
       "      <td>5.023004</td>\n",
       "      <td>1.437825</td>\n",
       "    </tr>\n",
       "    <tr>\n",
       "      <th>min</th>\n",
       "      <td>0.000000</td>\n",
       "      <td>-1.600000</td>\n",
       "      <td>-7.100000</td>\n",
       "      <td>0.400000</td>\n",
       "    </tr>\n",
       "    <tr>\n",
       "      <th>25%</th>\n",
       "      <td>0.000000</td>\n",
       "      <td>10.600000</td>\n",
       "      <td>4.400000</td>\n",
       "      <td>2.200000</td>\n",
       "    </tr>\n",
       "    <tr>\n",
       "      <th>50%</th>\n",
       "      <td>0.000000</td>\n",
       "      <td>15.600000</td>\n",
       "      <td>8.300000</td>\n",
       "      <td>3.000000</td>\n",
       "    </tr>\n",
       "    <tr>\n",
       "      <th>75%</th>\n",
       "      <td>2.800000</td>\n",
       "      <td>22.200000</td>\n",
       "      <td>12.200000</td>\n",
       "      <td>4.000000</td>\n",
       "    </tr>\n",
       "    <tr>\n",
       "      <th>max</th>\n",
       "      <td>55.900000</td>\n",
       "      <td>35.600000</td>\n",
       "      <td>18.300000</td>\n",
       "      <td>9.500000</td>\n",
       "    </tr>\n",
       "  </tbody>\n",
       "</table>\n",
       "</div>"
      ],
      "text/plain": [
       "       precipitation     temp_max     temp_min         wind\n",
       "count    1461.000000  1461.000000  1461.000000  1461.000000\n",
       "mean        3.029432    16.439083     8.234771     3.241136\n",
       "std         6.680194     7.349758     5.023004     1.437825\n",
       "min         0.000000    -1.600000    -7.100000     0.400000\n",
       "25%         0.000000    10.600000     4.400000     2.200000\n",
       "50%         0.000000    15.600000     8.300000     3.000000\n",
       "75%         2.800000    22.200000    12.200000     4.000000\n",
       "max        55.900000    35.600000    18.300000     9.500000"
      ]
     },
     "execution_count": 4,
     "metadata": {},
     "output_type": "execute_result"
    }
   ],
   "source": [
    "df.describe()"
   ]
  },
  {
   "cell_type": "markdown",
   "id": "78146ea1",
   "metadata": {},
   "source": [
    "# Let us see the distribution of the weather column."
   ]
  },
  {
   "cell_type": "code",
   "execution_count": 5,
   "id": "4e01c1c0",
   "metadata": {},
   "outputs": [
    {
     "data": {
      "image/png": "[encoded data removed]",
      "text/plain": [
       "<Figure size 640x480 with 1 Axes>"
      ]
     },
     "metadata": {},
     "output_type": "display_data"
    }
   ],
   "source": [
    "sns.countplot(x=\"weather\", data=df, palette='hls')\n",
    "plt.title('Weather Count Plot')\n",
    "plt.show()"
   ]
  },
  {
   "cell_type": "markdown",
   "id": "59a47d33",
   "metadata": {},
   "source": [
    "As we can see rain and sun are the most occured weather. "
   ]
  },
  {
   "cell_type": "markdown",
   "id": "db1278dd",
   "metadata": {},
   "source": [
    "# Now lets see the null values in the column"
   ]
  },
  {
   "cell_type": "code",
   "execution_count": 6,
   "id": "4c29ab36",
   "metadata": {},
   "outputs": [
    {
     "data": {
      "text/plain": [
       "date             0\n",
       "precipitation    0\n",
       "temp_max         0\n",
       "temp_min         0\n",
       "wind             0\n",
       "weather          0\n",
       "dtype: int64"
      ]
     },
     "execution_count": 6,
     "metadata": {},
     "output_type": "execute_result"
    }
   ],
   "source": [
    "df.isnull().sum()"
   ]
  },
  {
   "cell_type": "markdown",
   "id": "59c34062",
   "metadata": {},
   "source": [
    "# Since there are no null values there is no need to clean the null values."
   ]
  },
  {
   "cell_type": "markdown",
   "id": "6e45d36b",
   "metadata": {},
   "source": [
    "# Since we do not need the date column let us drop it."
   ]
  },
  {
   "cell_type": "code",
   "execution_count": 7,
   "id": "2595b565",
   "metadata": {},
   "outputs": [],
   "source": [
    "df=df.drop(['date'],axis=1)"
   ]
  },
  {
   "cell_type": "markdown",
   "id": "0e188e0b",
   "metadata": {},
   "source": [
    "# Lets see the outliers in the dataset"
   ]
  },
  {
   "cell_type": "code",
   "execution_count": 8,
   "id": "0094cc85",
   "metadata": {},
   "outputs": [
    {
     "data": {
      "image/png": "[encoded data removed]",
      "text/plain": [
       "<Figure size 1200x600 with 1 Axes>"
      ]
     },
     "metadata": {},
     "output_type": "display_data"
    }
   ],
   "source": [
    "plt.figure(figsize=(12, 6))\n",
    "sns.boxplot(x='weather', y='precipitation', data=df, palette='YlOrBr')\n",
    "plt.title('Boxplot of Precipitation for Different Weather Categories')\n",
    "plt.show()"
   ]
  },
  {
   "cell_type": "code",
   "execution_count": 9,
   "id": "8b9005be",
   "metadata": {},
   "outputs": [
    {
     "data": {
      "image/png": "[encoded data removed]",
      "text/plain": [
       "<Figure size 1200x600 with 1 Axes>"
      ]
     },
     "metadata": {},
     "output_type": "display_data"
    }
   ],
   "source": [
    "plt.figure(figsize=(12, 6))\n",
    "sns.boxplot(x='weather', y='temp_max', data=df, palette='inferno')\n",
    "plt.title('Boxplot of Max Temperature for Different Weather Categories')\n",
    "plt.show()"
   ]
  },
  {
   "cell_type": "code",
   "execution_count": 10,
   "id": "fad77a74",
   "metadata": {},
   "outputs": [
    {
     "data": {
      "image/png": "[encoded data removed]",
      "text/plain": [
       "<Figure size 1200x600 with 1 Axes>"
      ]
     },
     "metadata": {},
     "output_type": "display_data"
    }
   ],
   "source": [
    "plt.figure(figsize=(12, 6))\n",
    "sns.boxplot(x='weather', y='wind', data=df, palette='YlOrBr')\n",
    "plt.title('Boxplot of Wind Speed for Different Weather Categories')\n",
    "plt.show()"
   ]
  },
  {
   "cell_type": "markdown",
   "id": "5edc04a8",
   "metadata": {},
   "source": [
    "# As we can see there are a lot of outliers in the dataset, we need to clean it."
   ]
  },
  {
   "cell_type": "code",
   "execution_count": 11,
   "id": "8271db24",
   "metadata": {},
   "outputs": [],
   "source": [
    "Q1=df.quantile(0.25)\n",
    "Q3=df.quantile(0.75)\n",
    "IQR=Q3-Q1\n",
    "df=df[~((df<(Q1-1.5*IQR))|(df>(Q3+1.5*IQR))).any(axis=1)]"
   ]
  },
  {
   "cell_type": "markdown",
   "id": "0feae5fd",
   "metadata": {},
   "source": [
    "# Now its time to encode the target column since the machine takes in numeric values."
   ]
  },
  {
   "cell_type": "code",
   "execution_count": 12,
   "id": "ddd374cf",
   "metadata": {},
   "outputs": [],
   "source": [
    "from sklearn.preprocessing import StandardScaler,LabelEncoder"
   ]
  },
  {
   "cell_type": "code",
   "execution_count": 13,
   "id": "ae27a8ba",
   "metadata": {},
   "outputs": [],
   "source": [
    "lc=LabelEncoder()\n",
    "df['weather']=lc.fit_transform(df['weather'])"
   ]
  },
  {
   "cell_type": "code",
   "execution_count": 14,
   "id": "11b9d30a",
   "metadata": {},
   "outputs": [
    {
     "data": {
      "text/html": [
       "<div>\n",
       "<style scoped>\n",
       "    .dataframe tbody tr th:only-of-type {\n",
       "        vertical-align: middle;\n",
       "    }\n",
       "\n",
       "    .dataframe tbody tr th {\n",
       "        vertical-align: top;\n",
       "    }\n",
       "\n",
       "    .dataframe thead th {\n",
       "        text-align: right;\n",
       "    }\n",
       "</style>\n",
       "<table border=\"1\" class=\"dataframe\">\n",
       "  <thead>\n",
       "    <tr style=\"text-align: right;\">\n",
       "      <th></th>\n",
       "      <th>precipitation</th>\n",
       "      <th>temp_max</th>\n",
       "      <th>temp_min</th>\n",
       "      <th>wind</th>\n",
       "      <th>weather</th>\n",
       "    </tr>\n",
       "  </thead>\n",
       "  <tbody>\n",
       "    <tr>\n",
       "      <th>0</th>\n",
       "      <td>0.0</td>\n",
       "      <td>12.8</td>\n",
       "      <td>5.0</td>\n",
       "      <td>4.7</td>\n",
       "      <td>0</td>\n",
       "    </tr>\n",
       "    <tr>\n",
       "      <th>2</th>\n",
       "      <td>0.8</td>\n",
       "      <td>11.7</td>\n",
       "      <td>7.2</td>\n",
       "      <td>2.3</td>\n",
       "      <td>2</td>\n",
       "    </tr>\n",
       "    <tr>\n",
       "      <th>4</th>\n",
       "      <td>1.3</td>\n",
       "      <td>8.9</td>\n",
       "      <td>2.8</td>\n",
       "      <td>6.1</td>\n",
       "      <td>2</td>\n",
       "    </tr>\n",
       "    <tr>\n",
       "      <th>5</th>\n",
       "      <td>2.5</td>\n",
       "      <td>4.4</td>\n",
       "      <td>2.2</td>\n",
       "      <td>2.2</td>\n",
       "      <td>2</td>\n",
       "    </tr>\n",
       "    <tr>\n",
       "      <th>6</th>\n",
       "      <td>0.0</td>\n",
       "      <td>7.2</td>\n",
       "      <td>2.8</td>\n",
       "      <td>2.3</td>\n",
       "      <td>2</td>\n",
       "    </tr>\n",
       "  </tbody>\n",
       "</table>\n",
       "</div>"
      ],
      "text/plain": [
       "   precipitation  temp_max  temp_min  wind  weather\n",
       "0            0.0      12.8       5.0   4.7        0\n",
       "2            0.8      11.7       7.2   2.3        2\n",
       "4            1.3       8.9       2.8   6.1        2\n",
       "5            2.5       4.4       2.2   2.2        2\n",
       "6            0.0       7.2       2.8   2.3        2"
      ]
     },
     "execution_count": 14,
     "metadata": {},
     "output_type": "execute_result"
    }
   ],
   "source": [
    "df.head()"
   ]
  },
  {
   "cell_type": "markdown",
   "id": "0b881b35",
   "metadata": {},
   "source": [
    "# Seperating the Features and Target columns"
   ]
  },
  {
   "cell_type": "code",
   "execution_count": 15,
   "id": "dd6d72c0",
   "metadata": {},
   "outputs": [],
   "source": [
    "x=df.iloc[:,:-1]\n",
    "y=df['weather']"
   ]
  },
  {
   "cell_type": "code",
   "execution_count": 16,
   "id": "610977a0",
   "metadata": {},
   "outputs": [],
   "source": [
    "from sklearn.model_selection import train_test_split\n",
    "xtrain,xtest,ytrain,ytest = train_test_split(x,y,test_size = 0.2,random_state = 1)"
   ]
  },
  {
   "cell_type": "markdown",
   "id": "3002ad8f",
   "metadata": {},
   "source": [
    "# Lets fit some classification models and hypertune it to see what model gives the best accuracy."
   ]
  },
  {
   "cell_type": "markdown",
   "id": "746f7996",
   "metadata": {},
   "source": [
    "# Logistic Regression "
   ]
  },
  {
   "cell_type": "code",
   "execution_count": 17,
   "id": "40ebddd2",
   "metadata": {},
   "outputs": [],
   "source": [
    "from sklearn.linear_model import LogisticRegression\n",
    "logreg = LogisticRegression()\n",
    "logreg.fit(xtrain,ytrain)\n",
    "ypred = logreg.predict(xtest)"
   ]
  },
  {
   "cell_type": "code",
   "execution_count": 18,
   "id": "321c0c3c",
   "metadata": {},
   "outputs": [
    {
     "name": "stdout",
     "output_type": "stream",
     "text": [
      "Accuracy score :  0.7894736842105263\n",
      "              precision    recall  f1-score   support\n",
      "\n",
      "           0       0.00      0.00      0.00        11\n",
      "           1       0.00      0.00      0.00        22\n",
      "           2       0.92      0.87      0.89        91\n",
      "           3       0.00      0.00      0.00         7\n",
      "           4       0.72      1.00      0.84       116\n",
      "\n",
      "    accuracy                           0.79       247\n",
      "   macro avg       0.33      0.37      0.35       247\n",
      "weighted avg       0.68      0.79      0.72       247\n",
      "\n"
     ]
    }
   ],
   "source": [
    "from sklearn.metrics import accuracy_score,classification_report\n",
    "ac = accuracy_score(ytest,ypred)\n",
    "cr = classification_report(ytest,ypred)\n",
    "print(\"Accuracy score : \",ac)\n",
    "print(cr)"
   ]
  },
  {
   "cell_type": "markdown",
   "id": "ae6ab7a5",
   "metadata": {},
   "source": [
    "# HPT"
   ]
  },
  {
   "cell_type": "code",
   "execution_count": 19,
   "id": "2a9ac1d9",
   "metadata": {},
   "outputs": [],
   "source": [
    "logreg = LogisticRegression(solver = \"liblinear\")\n",
    "logreg.fit(xtrain,ytrain)\n",
    "ypred = logreg.predict(xtest)"
   ]
  },
  {
   "cell_type": "code",
   "execution_count": 20,
   "id": "f114dccc",
   "metadata": {},
   "outputs": [
    {
     "name": "stdout",
     "output_type": "stream",
     "text": [
      "Accuracy score :  0.7894736842105263\n",
      "              precision    recall  f1-score   support\n",
      "\n",
      "           0       0.00      0.00      0.00        11\n",
      "           1       0.00      0.00      0.00        22\n",
      "           2       0.92      0.87      0.89        91\n",
      "           3       0.00      0.00      0.00         7\n",
      "           4       0.72      1.00      0.84       116\n",
      "\n",
      "    accuracy                           0.79       247\n",
      "   macro avg       0.33      0.37      0.35       247\n",
      "weighted avg       0.68      0.79      0.72       247\n",
      "\n"
     ]
    }
   ],
   "source": [
    "ac = accuracy_score(ytest,ypred)\n",
    "cr = classification_report(ytest,ypred)\n",
    "print(\"Accuracy score : \",ac)\n",
    "print(cr)"
   ]
  },
  {
   "cell_type": "code",
   "execution_count": 21,
   "id": "c6fe4566",
   "metadata": {},
   "outputs": [],
   "source": [
    "logreg = LogisticRegression(solver = 'newton-cg')\n",
    "logreg.fit(xtrain,ytrain)\n",
    "ypred = logreg.predict(xtest)"
   ]
  },
  {
   "cell_type": "code",
   "execution_count": 22,
   "id": "700b979b",
   "metadata": {},
   "outputs": [
    {
     "name": "stdout",
     "output_type": "stream",
     "text": [
      "Accuracy score :  0.7894736842105263\n",
      "              precision    recall  f1-score   support\n",
      "\n",
      "           0       0.00      0.00      0.00        11\n",
      "           1       0.00      0.00      0.00        22\n",
      "           2       0.92      0.87      0.89        91\n",
      "           3       0.00      0.00      0.00         7\n",
      "           4       0.72      1.00      0.84       116\n",
      "\n",
      "    accuracy                           0.79       247\n",
      "   macro avg       0.33      0.37      0.35       247\n",
      "weighted avg       0.68      0.79      0.72       247\n",
      "\n"
     ]
    }
   ],
   "source": [
    "ac = accuracy_score(ytest,ypred)\n",
    "cr = classification_report(ytest,ypred)\n",
    "print(\"Accuracy score : \",ac)\n",
    "print(cr)"
   ]
  },
  {
   "cell_type": "markdown",
   "id": "548400ee",
   "metadata": {},
   "source": [
    "# KNN Classifier"
   ]
  },
  {
   "cell_type": "code",
   "execution_count": 23,
   "id": "a291b2f9",
   "metadata": {},
   "outputs": [],
   "source": [
    "from sklearn.neighbors import KNeighborsClassifier\n",
    "knn = KNeighborsClassifier(n_neighbors = 5) \n",
    "knn.fit(xtrain,ytrain)\n",
    "ypred = knn.predict(xtest)"
   ]
  },
  {
   "cell_type": "code",
   "execution_count": 24,
   "id": "e55ce6f2",
   "metadata": {},
   "outputs": [
    {
     "name": "stdout",
     "output_type": "stream",
     "text": [
      "0.708502024291498\n"
     ]
    }
   ],
   "source": [
    "from sklearn.metrics import accuracy_score\n",
    "ac = accuracy_score(ytest,ypred)\n",
    "print(ac)"
   ]
  },
  {
   "cell_type": "code",
   "execution_count": 25,
   "id": "6a1c7adf",
   "metadata": {},
   "outputs": [
    {
     "name": "stdout",
     "output_type": "stream",
     "text": [
      "max_depth = 1 accuracy : 0.7004048582995951\n",
      "max_depth = 2 accuracy : 0.6234817813765182\n",
      "max_depth = 3 accuracy : 0.728744939271255\n",
      "max_depth = 4 accuracy : 0.7125506072874493\n",
      "max_depth = 5 accuracy : 0.708502024291498\n",
      "max_depth = 6 accuracy : 0.7246963562753036\n",
      "max_depth = 7 accuracy : 0.7165991902834008\n",
      "max_depth = 8 accuracy : 0.7125506072874493\n",
      "max_depth = 9 accuracy : 0.7206477732793523\n",
      "max_depth = 10 accuracy : 0.7165991902834008\n",
      "max_depth = 11 accuracy : 0.7125506072874493\n",
      "max_depth = 12 accuracy : 0.6963562753036437\n",
      "max_depth = 13 accuracy : 0.6963562753036437\n",
      "max_depth = 14 accuracy : 0.7004048582995951\n",
      "max_depth = 15 accuracy : 0.7044534412955465\n",
      "max_depth = 16 accuracy : 0.7004048582995951\n",
      "max_depth = 17 accuracy : 0.708502024291498\n",
      "max_depth = 18 accuracy : 0.6963562753036437\n",
      "max_depth = 19 accuracy : 0.7044534412955465\n",
      "max_depth = 20 accuracy : 0.7125506072874493\n",
      "max_depth = 21 accuracy : 0.7125506072874493\n",
      "max_depth = 22 accuracy : 0.7125506072874493\n",
      "max_depth = 23 accuracy : 0.708502024291498\n",
      "max_depth = 24 accuracy : 0.708502024291498\n",
      "max_depth = 25 accuracy : 0.7125506072874493\n",
      "max_depth = 26 accuracy : 0.708502024291498\n",
      "max_depth = 27 accuracy : 0.708502024291498\n",
      "max_depth = 28 accuracy : 0.7044534412955465\n",
      "max_depth = 29 accuracy : 0.708502024291498\n",
      "max_depth = 30 accuracy : 0.6963562753036437\n",
      "max_depth = 31 accuracy : 0.7004048582995951\n",
      "max_depth = 32 accuracy : 0.7004048582995951\n",
      "max_depth = 33 accuracy : 0.7004048582995951\n",
      "max_depth = 34 accuracy : 0.6923076923076923\n"
     ]
    }
   ],
   "source": [
    "for i in range(1,35):\n",
    "    knn1 = KNeighborsClassifier(n_neighbors = i)\n",
    "    knn1.fit(xtrain,ytrain)\n",
    "    ypred = knn1.predict(xtest)\n",
    "    ac = accuracy_score(ytest,ypred)\n",
    "    print(f\"max_depth = {i} accuracy : {ac}\")"
   ]
  },
  {
   "cell_type": "code",
   "execution_count": 26,
   "id": "c27b80a3",
   "metadata": {},
   "outputs": [],
   "source": [
    "from sklearn.neighbors import KNeighborsClassifier\n",
    "knn2 = KNeighborsClassifier(n_neighbors = 9) \n",
    "knn2.fit(xtrain,ytrain)\n",
    "ypred = knn2.predict(xtest)"
   ]
  },
  {
   "cell_type": "code",
   "execution_count": 27,
   "id": "760da543",
   "metadata": {},
   "outputs": [
    {
     "name": "stdout",
     "output_type": "stream",
     "text": [
      "0.7206477732793523\n"
     ]
    }
   ],
   "source": [
    "from sklearn.metrics import accuracy_score\n",
    "ac = accuracy_score(ytest,ypred)\n",
    "print(ac)"
   ]
  },
  {
   "cell_type": "markdown",
   "id": "b461f455",
   "metadata": {},
   "source": [
    "# Decision Tree Classifier "
   ]
  },
  {
   "cell_type": "code",
   "execution_count": 28,
   "id": "3331b8aa",
   "metadata": {},
   "outputs": [],
   "source": [
    "from sklearn.tree import DecisionTreeClassifier\n",
    "from sklearn import tree"
   ]
  },
  {
   "cell_type": "code",
   "execution_count": 29,
   "id": "d63c8ef3",
   "metadata": {},
   "outputs": [],
   "source": [
    "dt = DecisionTreeClassifier()"
   ]
  },
  {
   "cell_type": "code",
   "execution_count": 30,
   "id": "2878f838",
   "metadata": {},
   "outputs": [],
   "source": [
    "def mymodel(model):\n",
    "    model.fit(xtrain,ytrain)\n",
    "    ypred = model.predict(xtest)\n",
    "    print(accuracy_score(ytest,ypred))\n",
    "    print(classification_report(ytest,ypred))\n",
    "    return model"
   ]
  },
  {
   "cell_type": "code",
   "execution_count": 31,
   "id": "97576660",
   "metadata": {},
   "outputs": [
    {
     "name": "stdout",
     "output_type": "stream",
     "text": [
      "0.7327935222672065\n",
      "              precision    recall  f1-score   support\n",
      "\n",
      "           0       0.17      0.18      0.17        11\n",
      "           1       0.33      0.23      0.27        22\n",
      "           2       0.82      0.89      0.85        91\n",
      "           3       1.00      0.57      0.73         7\n",
      "           4       0.76      0.77      0.76       116\n",
      "\n",
      "    accuracy                           0.73       247\n",
      "   macro avg       0.62      0.53      0.56       247\n",
      "weighted avg       0.72      0.73      0.73       247\n",
      "\n"
     ]
    },
    {
     "data": {
      "text/html": [
       "<style>#sk-container-id-1 {color: black;background-color: white;}#sk-container-id-1 pre{padding: 0;}#sk-container-id-1 div.sk-toggleable {background-color: white;}#sk-container-id-1 label.sk-toggleable__label {cursor: pointer;display: block;width: 100%;margin-bottom: 0;padding: 0.3em;box-sizing: border-box;text-align: center;}#sk-container-id-1 label.sk-toggleable__label-arrow:before {content: \"▸\";float: left;margin-right: 0.25em;color: #696969;}#sk-container-id-1 label.sk-toggleable__label-arrow:hover:before {color: black;}#sk-container-id-1 div.sk-estimator:hover label.sk-toggleable__label-arrow:before {color: black;}#sk-container-id-1 div.sk-toggleable__content {max-height: 0;max-width: 0;overflow: hidden;text-align: left;background-color: #f0f8ff;}#sk-container-id-1 div.sk-toggleable__content pre {margin: 0.2em;color: black;border-radius: 0.25em;background-color: #f0f8ff;}#sk-container-id-1 input.sk-toggleable__control:checked~div.sk-toggleable__content {max-height: 200px;max-width: 100%;overflow: auto;}#sk-container-id-1 input.sk-toggleable__control:checked~label.sk-toggleable__label-arrow:before {content: \"▾\";}#sk-container-id-1 div.sk-estimator input.sk-toggleable__control:checked~label.sk-toggleable__label {background-color: #d4ebff;}#sk-container-id-1 div.sk-label input.sk-toggleable__control:checked~label.sk-toggleable__label {background-color: #d4ebff;}#sk-container-id-1 input.sk-hidden--visually {border: 0;clip: rect(1px 1px 1px 1px);clip: rect(1px, 1px, 1px, 1px);height: 1px;margin: -1px;overflow: hidden;padding: 0;position: absolute;width: 1px;}#sk-container-id-1 div.sk-estimator {font-family: monospace;background-color: #f0f8ff;border: 1px dotted black;border-radius: 0.25em;box-sizing: border-box;margin-bottom: 0.5em;}#sk-container-id-1 div.sk-estimator:hover {background-color: #d4ebff;}#sk-container-id-1 div.sk-parallel-item::after {content: \"\";width: 100%;border-bottom: 1px solid gray;flex-grow: 1;}#sk-container-id-1 div.sk-label:hover label.sk-toggleable__label {background-color: #d4ebff;}#sk-container-id-1 div.sk-serial::before {content: \"\";position: absolute;border-left: 1px solid gray;box-sizing: border-box;top: 0;bottom: 0;left: 50%;z-index: 0;}#sk-container-id-1 div.sk-serial {display: flex;flex-direction: column;align-items: center;background-color: white;padding-right: 0.2em;padding-left: 0.2em;position: relative;}#sk-container-id-1 div.sk-item {position: relative;z-index: 1;}#sk-container-id-1 div.sk-parallel {display: flex;align-items: stretch;justify-content: center;background-color: white;position: relative;}#sk-container-id-1 div.sk-item::before, #sk-container-id-1 div.sk-parallel-item::before {content: \"\";position: absolute;border-left: 1px solid gray;box-sizing: border-box;top: 0;bottom: 0;left: 50%;z-index: -1;}#sk-container-id-1 div.sk-parallel-item {display: flex;flex-direction: column;z-index: 1;position: relative;background-color: white;}#sk-container-id-1 div.sk-parallel-item:first-child::after {align-self: flex-end;width: 50%;}#sk-container-id-1 div.sk-parallel-item:last-child::after {align-self: flex-start;width: 50%;}#sk-container-id-1 div.sk-parallel-item:only-child::after {width: 0;}#sk-container-id-1 div.sk-dashed-wrapped {border: 1px dashed gray;margin: 0 0.4em 0.5em 0.4em;box-sizing: border-box;padding-bottom: 0.4em;background-color: white;}#sk-container-id-1 div.sk-label label {font-family: monospace;font-weight: bold;display: inline-block;line-height: 1.2em;}#sk-container-id-1 div.sk-label-container {text-align: center;}#sk-container-id-1 div.sk-container {/* jupyter's `normalize.less` sets `[hidden] { display: none; }` but bootstrap.min.css set `[hidden] { display: none !important; }` so we also need the `!important` here to be able to override the default hidden behavior on the sphinx rendered scikit-learn.org. See: https://github.com/scikit-learn/scikit-learn/issues/21755 */display: inline-block !important;position: relative;}#sk-container-id-1 div.sk-text-repr-fallback {display: none;}</style><div id=\"sk-container-id-1\" class=\"sk-top-container\"><div class=\"sk-text-repr-fallback\"><pre>DecisionTreeClassifier()</pre><b>In a Jupyter environment, please rerun this cell to show the HTML representation or trust the notebook. <br />On GitHub, the HTML representation is unable to render, please try loading this page with nbviewer.org.</b></div><div class=\"sk-container\" hidden><div class=\"sk-item\"><div class=\"sk-estimator sk-toggleable\"><input class=\"sk-toggleable__control sk-hidden--visually\" id=\"sk-estimator-id-1\" type=\"checkbox\" checked><label for=\"sk-estimator-id-1\" class=\"sk-toggleable__label sk-toggleable__label-arrow\">DecisionTreeClassifier</label><div class=\"sk-toggleable__content\"><pre>DecisionTreeClassifier()</pre></div></div></div></div></div>"
      ],
      "text/plain": [
       "DecisionTreeClassifier()"
      ]
     },
     "execution_count": 31,
     "metadata": {},
     "output_type": "execute_result"
    }
   ],
   "source": [
    "mymodel(dt)"
   ]
  },
  {
   "cell_type": "code",
   "execution_count": 32,
   "id": "a1f37d44",
   "metadata": {},
   "outputs": [
    {
     "name": "stdout",
     "output_type": "stream",
     "text": [
      "train score :0.9959432048681541 \n",
      " test score : 0.7327935222672065\n"
     ]
    }
   ],
   "source": [
    "train = dt.score(xtrain,ytrain)\n",
    "test = dt.score(xtest,ytest)\n",
    "print(f\"train score :{train} \\n test score : {test}\")"
   ]
  },
  {
   "cell_type": "markdown",
   "id": "655ab594",
   "metadata": {},
   "source": [
    "# HPT"
   ]
  },
  {
   "cell_type": "markdown",
   "id": "dec276f7",
   "metadata": {},
   "source": [
    "# i. Max Depth"
   ]
  },
  {
   "cell_type": "code",
   "execution_count": 33,
   "id": "47efd47e",
   "metadata": {},
   "outputs": [
    {
     "name": "stdout",
     "output_type": "stream",
     "text": [
      "max_depth = 1 accuracy : 0.7935222672064778\n",
      "max_depth = 2 accuracy : 0.805668016194332\n",
      "max_depth = 3 accuracy : 0.8016194331983806\n",
      "max_depth = 4 accuracy : 0.8137651821862348\n",
      "max_depth = 5 accuracy : 0.8218623481781376\n",
      "max_depth = 6 accuracy : 0.8178137651821862\n",
      "max_depth = 7 accuracy : 0.7854251012145749\n",
      "max_depth = 8 accuracy : 0.7692307692307693\n",
      "max_depth = 9 accuracy : 0.7530364372469636\n",
      "max_depth = 10 accuracy : 0.7692307692307693\n",
      "max_depth = 11 accuracy : 0.7368421052631579\n",
      "max_depth = 12 accuracy : 0.7327935222672065\n",
      "max_depth = 13 accuracy : 0.7206477732793523\n",
      "max_depth = 14 accuracy : 0.7368421052631579\n",
      "max_depth = 15 accuracy : 0.7327935222672065\n",
      "max_depth = 16 accuracy : 0.7165991902834008\n",
      "max_depth = 17 accuracy : 0.7368421052631579\n",
      "max_depth = 18 accuracy : 0.728744939271255\n",
      "max_depth = 19 accuracy : 0.708502024291498\n",
      "max_depth = 20 accuracy : 0.7004048582995951\n",
      "max_depth = 21 accuracy : 0.728744939271255\n",
      "max_depth = 22 accuracy : 0.728744939271255\n",
      "max_depth = 23 accuracy : 0.728744939271255\n",
      "max_depth = 24 accuracy : 0.7165991902834008\n",
      "max_depth = 25 accuracy : 0.7368421052631579\n",
      "max_depth = 26 accuracy : 0.7327935222672065\n",
      "max_depth = 27 accuracy : 0.7246963562753036\n",
      "max_depth = 28 accuracy : 0.7368421052631579\n",
      "max_depth = 29 accuracy : 0.7246963562753036\n",
      "max_depth = 30 accuracy : 0.7206477732793523\n",
      "max_depth = 31 accuracy : 0.7246963562753036\n",
      "max_depth = 32 accuracy : 0.7530364372469636\n",
      "max_depth = 33 accuracy : 0.7165991902834008\n",
      "max_depth = 34 accuracy : 0.7206477732793523\n"
     ]
    }
   ],
   "source": [
    "for i in range(1,35):\n",
    "    dt1 = DecisionTreeClassifier(max_depth = i)\n",
    "    dt1.fit(xtrain,ytrain)\n",
    "    ypred = dt1.predict(xtest)\n",
    "    ac = accuracy_score(ytest,ypred)\n",
    "    print(f\"max_depth = {i} accuracy : {ac}\")"
   ]
  },
  {
   "cell_type": "code",
   "execution_count": 34,
   "id": "0acc7b56",
   "metadata": {},
   "outputs": [
    {
     "name": "stdout",
     "output_type": "stream",
     "text": [
      "0.8259109311740891\n",
      "              precision    recall  f1-score   support\n",
      "\n",
      "           0       0.80      0.36      0.50        11\n",
      "           1       0.00      0.00      0.00        22\n",
      "           2       0.98      0.88      0.92        91\n",
      "           3       1.00      0.71      0.83         7\n",
      "           4       0.74      0.99      0.85       116\n",
      "\n",
      "    accuracy                           0.83       247\n",
      "   macro avg       0.70      0.59      0.62       247\n",
      "weighted avg       0.77      0.83      0.79       247\n",
      "\n"
     ]
    },
    {
     "data": {
      "text/html": [
       "<style>#sk-container-id-2 {color: black;background-color: white;}#sk-container-id-2 pre{padding: 0;}#sk-container-id-2 div.sk-toggleable {background-color: white;}#sk-container-id-2 label.sk-toggleable__label {cursor: pointer;display: block;width: 100%;margin-bottom: 0;padding: 0.3em;box-sizing: border-box;text-align: center;}#sk-container-id-2 label.sk-toggleable__label-arrow:before {content: \"▸\";float: left;margin-right: 0.25em;color: #696969;}#sk-container-id-2 label.sk-toggleable__label-arrow:hover:before {color: black;}#sk-container-id-2 div.sk-estimator:hover label.sk-toggleable__label-arrow:before {color: black;}#sk-container-id-2 div.sk-toggleable__content {max-height: 0;max-width: 0;overflow: hidden;text-align: left;background-color: #f0f8ff;}#sk-container-id-2 div.sk-toggleable__content pre {margin: 0.2em;color: black;border-radius: 0.25em;background-color: #f0f8ff;}#sk-container-id-2 input.sk-toggleable__control:checked~div.sk-toggleable__content {max-height: 200px;max-width: 100%;overflow: auto;}#sk-container-id-2 input.sk-toggleable__control:checked~label.sk-toggleable__label-arrow:before {content: \"▾\";}#sk-container-id-2 div.sk-estimator input.sk-toggleable__control:checked~label.sk-toggleable__label {background-color: #d4ebff;}#sk-container-id-2 div.sk-label input.sk-toggleable__control:checked~label.sk-toggleable__label {background-color: #d4ebff;}#sk-container-id-2 input.sk-hidden--visually {border: 0;clip: rect(1px 1px 1px 1px);clip: rect(1px, 1px, 1px, 1px);height: 1px;margin: -1px;overflow: hidden;padding: 0;position: absolute;width: 1px;}#sk-container-id-2 div.sk-estimator {font-family: monospace;background-color: #f0f8ff;border: 1px dotted black;border-radius: 0.25em;box-sizing: border-box;margin-bottom: 0.5em;}#sk-container-id-2 div.sk-estimator:hover {background-color: #d4ebff;}#sk-container-id-2 div.sk-parallel-item::after {content: \"\";width: 100%;border-bottom: 1px solid gray;flex-grow: 1;}#sk-container-id-2 div.sk-label:hover label.sk-toggleable__label {background-color: #d4ebff;}#sk-container-id-2 div.sk-serial::before {content: \"\";position: absolute;border-left: 1px solid gray;box-sizing: border-box;top: 0;bottom: 0;left: 50%;z-index: 0;}#sk-container-id-2 div.sk-serial {display: flex;flex-direction: column;align-items: center;background-color: white;padding-right: 0.2em;padding-left: 0.2em;position: relative;}#sk-container-id-2 div.sk-item {position: relative;z-index: 1;}#sk-container-id-2 div.sk-parallel {display: flex;align-items: stretch;justify-content: center;background-color: white;position: relative;}#sk-container-id-2 div.sk-item::before, #sk-container-id-2 div.sk-parallel-item::before {content: \"\";position: absolute;border-left: 1px solid gray;box-sizing: border-box;top: 0;bottom: 0;left: 50%;z-index: -1;}#sk-container-id-2 div.sk-parallel-item {display: flex;flex-direction: column;z-index: 1;position: relative;background-color: white;}#sk-container-id-2 div.sk-parallel-item:first-child::after {align-self: flex-end;width: 50%;}#sk-container-id-2 div.sk-parallel-item:last-child::after {align-self: flex-start;width: 50%;}#sk-container-id-2 div.sk-parallel-item:only-child::after {width: 0;}#sk-container-id-2 div.sk-dashed-wrapped {border: 1px dashed gray;margin: 0 0.4em 0.5em 0.4em;box-sizing: border-box;padding-bottom: 0.4em;background-color: white;}#sk-container-id-2 div.sk-label label {font-family: monospace;font-weight: bold;display: inline-block;line-height: 1.2em;}#sk-container-id-2 div.sk-label-container {text-align: center;}#sk-container-id-2 div.sk-container {/* jupyter's `normalize.less` sets `[hidden] { display: none; }` but bootstrap.min.css set `[hidden] { display: none !important; }` so we also need the `!important` here to be able to override the default hidden behavior on the sphinx rendered scikit-learn.org. See: https://github.com/scikit-learn/scikit-learn/issues/21755 */display: inline-block !important;position: relative;}#sk-container-id-2 div.sk-text-repr-fallback {display: none;}</style><div id=\"sk-container-id-2\" class=\"sk-top-container\"><div class=\"sk-text-repr-fallback\"><pre>DecisionTreeClassifier(max_depth=5)</pre><b>In a Jupyter environment, please rerun this cell to show the HTML representation or trust the notebook. <br />On GitHub, the HTML representation is unable to render, please try loading this page with nbviewer.org.</b></div><div class=\"sk-container\" hidden><div class=\"sk-item\"><div class=\"sk-estimator sk-toggleable\"><input class=\"sk-toggleable__control sk-hidden--visually\" id=\"sk-estimator-id-2\" type=\"checkbox\" checked><label for=\"sk-estimator-id-2\" class=\"sk-toggleable__label sk-toggleable__label-arrow\">DecisionTreeClassifier</label><div class=\"sk-toggleable__content\"><pre>DecisionTreeClassifier(max_depth=5)</pre></div></div></div></div></div>"
      ],
      "text/plain": [
       "DecisionTreeClassifier(max_depth=5)"
      ]
     },
     "execution_count": 34,
     "metadata": {},
     "output_type": "execute_result"
    }
   ],
   "source": [
    "dt2 = DecisionTreeClassifier(max_depth = 5)\n",
    "mymodel(dt2)"
   ]
  },
  {
   "cell_type": "code",
   "execution_count": 35,
   "id": "77915689",
   "metadata": {},
   "outputs": [
    {
     "name": "stdout",
     "output_type": "stream",
     "text": [
      "train score :0.845841784989858 \n",
      " test score : 0.8259109311740891\n"
     ]
    }
   ],
   "source": [
    "train = dt2.score(xtrain,ytrain)\n",
    "test = dt2.score(xtest,ytest)\n",
    "print(f\"train score :{train} \\n test score : {test}\")"
   ]
  },
  {
   "cell_type": "markdown",
   "id": "b73b5a0b",
   "metadata": {},
   "source": [
    "# ii. Min Sample Split"
   ]
  },
  {
   "cell_type": "code",
   "execution_count": 36,
   "id": "ce67762d",
   "metadata": {
    "scrolled": true
   },
   "outputs": [
    {
     "name": "stdout",
     "output_type": "stream",
     "text": [
      "max_depth = 300 accuracy : 0.805668016194332\n",
      "max_depth = 301 accuracy : 0.805668016194332\n",
      "max_depth = 302 accuracy : 0.805668016194332\n",
      "max_depth = 303 accuracy : 0.805668016194332\n",
      "max_depth = 304 accuracy : 0.805668016194332\n",
      "max_depth = 305 accuracy : 0.805668016194332\n",
      "max_depth = 306 accuracy : 0.805668016194332\n",
      "max_depth = 307 accuracy : 0.805668016194332\n",
      "max_depth = 308 accuracy : 0.805668016194332\n",
      "max_depth = 309 accuracy : 0.805668016194332\n",
      "max_depth = 310 accuracy : 0.805668016194332\n",
      "max_depth = 311 accuracy : 0.805668016194332\n",
      "max_depth = 312 accuracy : 0.805668016194332\n",
      "max_depth = 313 accuracy : 0.805668016194332\n",
      "max_depth = 314 accuracy : 0.7935222672064778\n",
      "max_depth = 315 accuracy : 0.7935222672064778\n",
      "max_depth = 316 accuracy : 0.7935222672064778\n",
      "max_depth = 317 accuracy : 0.7935222672064778\n",
      "max_depth = 318 accuracy : 0.7935222672064778\n",
      "max_depth = 319 accuracy : 0.7935222672064778\n",
      "max_depth = 320 accuracy : 0.7935222672064778\n",
      "max_depth = 321 accuracy : 0.7935222672064778\n",
      "max_depth = 322 accuracy : 0.7935222672064778\n",
      "max_depth = 323 accuracy : 0.7935222672064778\n",
      "max_depth = 324 accuracy : 0.7935222672064778\n",
      "max_depth = 325 accuracy : 0.7935222672064778\n",
      "max_depth = 326 accuracy : 0.7935222672064778\n",
      "max_depth = 327 accuracy : 0.7935222672064778\n",
      "max_depth = 328 accuracy : 0.7935222672064778\n",
      "max_depth = 329 accuracy : 0.7935222672064778\n",
      "max_depth = 330 accuracy : 0.7935222672064778\n",
      "max_depth = 331 accuracy : 0.7935222672064778\n",
      "max_depth = 332 accuracy : 0.7935222672064778\n",
      "max_depth = 333 accuracy : 0.7935222672064778\n",
      "max_depth = 334 accuracy : 0.7935222672064778\n",
      "max_depth = 335 accuracy : 0.7935222672064778\n",
      "max_depth = 336 accuracy : 0.7935222672064778\n",
      "max_depth = 337 accuracy : 0.7935222672064778\n",
      "max_depth = 338 accuracy : 0.7935222672064778\n",
      "max_depth = 339 accuracy : 0.7935222672064778\n",
      "max_depth = 340 accuracy : 0.7935222672064778\n",
      "max_depth = 341 accuracy : 0.7935222672064778\n",
      "max_depth = 342 accuracy : 0.7935222672064778\n",
      "max_depth = 343 accuracy : 0.7935222672064778\n",
      "max_depth = 344 accuracy : 0.7935222672064778\n",
      "max_depth = 345 accuracy : 0.7935222672064778\n",
      "max_depth = 346 accuracy : 0.7935222672064778\n",
      "max_depth = 347 accuracy : 0.7935222672064778\n",
      "max_depth = 348 accuracy : 0.7935222672064778\n",
      "max_depth = 349 accuracy : 0.7935222672064778\n",
      "max_depth = 350 accuracy : 0.7935222672064778\n",
      "max_depth = 351 accuracy : 0.7935222672064778\n",
      "max_depth = 352 accuracy : 0.7935222672064778\n",
      "max_depth = 353 accuracy : 0.7935222672064778\n",
      "max_depth = 354 accuracy : 0.7935222672064778\n",
      "max_depth = 355 accuracy : 0.7935222672064778\n",
      "max_depth = 356 accuracy : 0.7935222672064778\n",
      "max_depth = 357 accuracy : 0.7935222672064778\n",
      "max_depth = 358 accuracy : 0.7935222672064778\n",
      "max_depth = 359 accuracy : 0.7935222672064778\n",
      "max_depth = 360 accuracy : 0.7935222672064778\n",
      "max_depth = 361 accuracy : 0.7935222672064778\n",
      "max_depth = 362 accuracy : 0.7935222672064778\n",
      "max_depth = 363 accuracy : 0.7935222672064778\n",
      "max_depth = 364 accuracy : 0.7935222672064778\n",
      "max_depth = 365 accuracy : 0.7935222672064778\n",
      "max_depth = 366 accuracy : 0.7935222672064778\n",
      "max_depth = 367 accuracy : 0.7935222672064778\n",
      "max_depth = 368 accuracy : 0.7935222672064778\n",
      "max_depth = 369 accuracy : 0.7935222672064778\n",
      "max_depth = 370 accuracy : 0.7935222672064778\n",
      "max_depth = 371 accuracy : 0.7935222672064778\n",
      "max_depth = 372 accuracy : 0.7935222672064778\n",
      "max_depth = 373 accuracy : 0.7935222672064778\n",
      "max_depth = 374 accuracy : 0.7935222672064778\n",
      "max_depth = 375 accuracy : 0.7935222672064778\n",
      "max_depth = 376 accuracy : 0.7935222672064778\n",
      "max_depth = 377 accuracy : 0.7935222672064778\n",
      "max_depth = 378 accuracy : 0.7935222672064778\n",
      "max_depth = 379 accuracy : 0.7935222672064778\n",
      "max_depth = 380 accuracy : 0.7935222672064778\n",
      "max_depth = 381 accuracy : 0.7935222672064778\n",
      "max_depth = 382 accuracy : 0.7935222672064778\n",
      "max_depth = 383 accuracy : 0.7935222672064778\n",
      "max_depth = 384 accuracy : 0.7935222672064778\n",
      "max_depth = 385 accuracy : 0.7935222672064778\n",
      "max_depth = 386 accuracy : 0.7935222672064778\n",
      "max_depth = 387 accuracy : 0.7935222672064778\n",
      "max_depth = 388 accuracy : 0.7935222672064778\n",
      "max_depth = 389 accuracy : 0.7935222672064778\n",
      "max_depth = 390 accuracy : 0.7935222672064778\n",
      "max_depth = 391 accuracy : 0.7935222672064778\n",
      "max_depth = 392 accuracy : 0.7935222672064778\n",
      "max_depth = 393 accuracy : 0.7935222672064778\n",
      "max_depth = 394 accuracy : 0.7935222672064778\n",
      "max_depth = 395 accuracy : 0.7935222672064778\n",
      "max_depth = 396 accuracy : 0.7935222672064778\n",
      "max_depth = 397 accuracy : 0.7935222672064778\n",
      "max_depth = 398 accuracy : 0.7935222672064778\n",
      "max_depth = 399 accuracy : 0.7935222672064778\n",
      "max_depth = 400 accuracy : 0.7935222672064778\n"
     ]
    }
   ],
   "source": [
    "for i in range(300,401):\n",
    "    dt3 = DecisionTreeClassifier(min_samples_split = i)\n",
    "    dt3.fit(xtrain,ytrain)\n",
    "    ypred = dt3.predict(xtest)\n",
    "    ac = accuracy_score(ytest,ypred)\n",
    "    print(f\"max_depth = {i} accuracy : {ac}\")"
   ]
  },
  {
   "cell_type": "code",
   "execution_count": 37,
   "id": "f536bcf2",
   "metadata": {},
   "outputs": [
    {
     "name": "stdout",
     "output_type": "stream",
     "text": [
      "0.805668016194332\n",
      "              precision    recall  f1-score   support\n",
      "\n",
      "           0       0.00      0.00      0.00        11\n",
      "           1       0.00      0.00      0.00        22\n",
      "           2       0.95      0.88      0.91        91\n",
      "           3       1.00      0.43      0.60         7\n",
      "           4       0.72      1.00      0.84       116\n",
      "\n",
      "    accuracy                           0.81       247\n",
      "   macro avg       0.54      0.46      0.47       247\n",
      "weighted avg       0.72      0.81      0.75       247\n",
      "\n"
     ]
    },
    {
     "data": {
      "text/html": [
       "<style>#sk-container-id-3 {color: black;background-color: white;}#sk-container-id-3 pre{padding: 0;}#sk-container-id-3 div.sk-toggleable {background-color: white;}#sk-container-id-3 label.sk-toggleable__label {cursor: pointer;display: block;width: 100%;margin-bottom: 0;padding: 0.3em;box-sizing: border-box;text-align: center;}#sk-container-id-3 label.sk-toggleable__label-arrow:before {content: \"▸\";float: left;margin-right: 0.25em;color: #696969;}#sk-container-id-3 label.sk-toggleable__label-arrow:hover:before {color: black;}#sk-container-id-3 div.sk-estimator:hover label.sk-toggleable__label-arrow:before {color: black;}#sk-container-id-3 div.sk-toggleable__content {max-height: 0;max-width: 0;overflow: hidden;text-align: left;background-color: #f0f8ff;}#sk-container-id-3 div.sk-toggleable__content pre {margin: 0.2em;color: black;border-radius: 0.25em;background-color: #f0f8ff;}#sk-container-id-3 input.sk-toggleable__control:checked~div.sk-toggleable__content {max-height: 200px;max-width: 100%;overflow: auto;}#sk-container-id-3 input.sk-toggleable__control:checked~label.sk-toggleable__label-arrow:before {content: \"▾\";}#sk-container-id-3 div.sk-estimator input.sk-toggleable__control:checked~label.sk-toggleable__label {background-color: #d4ebff;}#sk-container-id-3 div.sk-label input.sk-toggleable__control:checked~label.sk-toggleable__label {background-color: #d4ebff;}#sk-container-id-3 input.sk-hidden--visually {border: 0;clip: rect(1px 1px 1px 1px);clip: rect(1px, 1px, 1px, 1px);height: 1px;margin: -1px;overflow: hidden;padding: 0;position: absolute;width: 1px;}#sk-container-id-3 div.sk-estimator {font-family: monospace;background-color: #f0f8ff;border: 1px dotted black;border-radius: 0.25em;box-sizing: border-box;margin-bottom: 0.5em;}#sk-container-id-3 div.sk-estimator:hover {background-color: #d4ebff;}#sk-container-id-3 div.sk-parallel-item::after {content: \"\";width: 100%;border-bottom: 1px solid gray;flex-grow: 1;}#sk-container-id-3 div.sk-label:hover label.sk-toggleable__label {background-color: #d4ebff;}#sk-container-id-3 div.sk-serial::before {content: \"\";position: absolute;border-left: 1px solid gray;box-sizing: border-box;top: 0;bottom: 0;left: 50%;z-index: 0;}#sk-container-id-3 div.sk-serial {display: flex;flex-direction: column;align-items: center;background-color: white;padding-right: 0.2em;padding-left: 0.2em;position: relative;}#sk-container-id-3 div.sk-item {position: relative;z-index: 1;}#sk-container-id-3 div.sk-parallel {display: flex;align-items: stretch;justify-content: center;background-color: white;position: relative;}#sk-container-id-3 div.sk-item::before, #sk-container-id-3 div.sk-parallel-item::before {content: \"\";position: absolute;border-left: 1px solid gray;box-sizing: border-box;top: 0;bottom: 0;left: 50%;z-index: -1;}#sk-container-id-3 div.sk-parallel-item {display: flex;flex-direction: column;z-index: 1;position: relative;background-color: white;}#sk-container-id-3 div.sk-parallel-item:first-child::after {align-self: flex-end;width: 50%;}#sk-container-id-3 div.sk-parallel-item:last-child::after {align-self: flex-start;width: 50%;}#sk-container-id-3 div.sk-parallel-item:only-child::after {width: 0;}#sk-container-id-3 div.sk-dashed-wrapped {border: 1px dashed gray;margin: 0 0.4em 0.5em 0.4em;box-sizing: border-box;padding-bottom: 0.4em;background-color: white;}#sk-container-id-3 div.sk-label label {font-family: monospace;font-weight: bold;display: inline-block;line-height: 1.2em;}#sk-container-id-3 div.sk-label-container {text-align: center;}#sk-container-id-3 div.sk-container {/* jupyter's `normalize.less` sets `[hidden] { display: none; }` but bootstrap.min.css set `[hidden] { display: none !important; }` so we also need the `!important` here to be able to override the default hidden behavior on the sphinx rendered scikit-learn.org. See: https://github.com/scikit-learn/scikit-learn/issues/21755 */display: inline-block !important;position: relative;}#sk-container-id-3 div.sk-text-repr-fallback {display: none;}</style><div id=\"sk-container-id-3\" class=\"sk-top-container\"><div class=\"sk-text-repr-fallback\"><pre>DecisionTreeClassifier(min_samples_split=250)</pre><b>In a Jupyter environment, please rerun this cell to show the HTML representation or trust the notebook. <br />On GitHub, the HTML representation is unable to render, please try loading this page with nbviewer.org.</b></div><div class=\"sk-container\" hidden><div class=\"sk-item\"><div class=\"sk-estimator sk-toggleable\"><input class=\"sk-toggleable__control sk-hidden--visually\" id=\"sk-estimator-id-3\" type=\"checkbox\" checked><label for=\"sk-estimator-id-3\" class=\"sk-toggleable__label sk-toggleable__label-arrow\">DecisionTreeClassifier</label><div class=\"sk-toggleable__content\"><pre>DecisionTreeClassifier(min_samples_split=250)</pre></div></div></div></div></div>"
      ],
      "text/plain": [
       "DecisionTreeClassifier(min_samples_split=250)"
      ]
     },
     "execution_count": 37,
     "metadata": {},
     "output_type": "execute_result"
    }
   ],
   "source": [
    "dt4 = DecisionTreeClassifier(min_samples_split = 250)\n",
    "mymodel(dt4)"
   ]
  },
  {
   "cell_type": "code",
   "execution_count": 38,
   "id": "29368603",
   "metadata": {},
   "outputs": [
    {
     "name": "stdout",
     "output_type": "stream",
     "text": [
      "train score :0.8407707910750507 \n",
      " test score : 0.805668016194332\n"
     ]
    }
   ],
   "source": [
    "train = dt4.score(xtrain,ytrain)\n",
    "test = dt4.score(xtest,ytest)\n",
    "print(f\"train score :{train} \\n test score : {test}\")"
   ]
  },
  {
   "cell_type": "markdown",
   "id": "28c06e6a",
   "metadata": {},
   "source": [
    "# iii. Min Sample leaf"
   ]
  },
  {
   "cell_type": "code",
   "execution_count": 39,
   "id": "b97a9ef3",
   "metadata": {
    "scrolled": true
   },
   "outputs": [
    {
     "name": "stdout",
     "output_type": "stream",
     "text": [
      "max_depth = 300 accuracy : 0.7935222672064778\n",
      "max_depth = 301 accuracy : 0.7935222672064778\n",
      "max_depth = 302 accuracy : 0.7935222672064778\n",
      "max_depth = 303 accuracy : 0.7935222672064778\n",
      "max_depth = 304 accuracy : 0.7935222672064778\n",
      "max_depth = 305 accuracy : 0.7935222672064778\n",
      "max_depth = 306 accuracy : 0.7935222672064778\n",
      "max_depth = 307 accuracy : 0.7935222672064778\n",
      "max_depth = 308 accuracy : 0.7935222672064778\n",
      "max_depth = 309 accuracy : 0.7935222672064778\n",
      "max_depth = 310 accuracy : 0.7935222672064778\n",
      "max_depth = 311 accuracy : 0.7935222672064778\n",
      "max_depth = 312 accuracy : 0.7935222672064778\n",
      "max_depth = 313 accuracy : 0.7935222672064778\n",
      "max_depth = 314 accuracy : 0.5991902834008097\n",
      "max_depth = 315 accuracy : 0.5991902834008097\n",
      "max_depth = 316 accuracy : 0.5991902834008097\n",
      "max_depth = 317 accuracy : 0.5991902834008097\n",
      "max_depth = 318 accuracy : 0.5991902834008097\n",
      "max_depth = 319 accuracy : 0.5991902834008097\n",
      "max_depth = 320 accuracy : 0.5991902834008097\n",
      "max_depth = 321 accuracy : 0.5991902834008097\n",
      "max_depth = 322 accuracy : 0.5991902834008097\n",
      "max_depth = 323 accuracy : 0.5991902834008097\n",
      "max_depth = 324 accuracy : 0.5991902834008097\n",
      "max_depth = 325 accuracy : 0.5991902834008097\n",
      "max_depth = 326 accuracy : 0.5991902834008097\n",
      "max_depth = 327 accuracy : 0.5991902834008097\n",
      "max_depth = 328 accuracy : 0.5991902834008097\n",
      "max_depth = 329 accuracy : 0.5991902834008097\n",
      "max_depth = 330 accuracy : 0.5991902834008097\n",
      "max_depth = 331 accuracy : 0.5991902834008097\n",
      "max_depth = 332 accuracy : 0.5991902834008097\n",
      "max_depth = 333 accuracy : 0.5991902834008097\n",
      "max_depth = 334 accuracy : 0.5991902834008097\n",
      "max_depth = 335 accuracy : 0.5991902834008097\n",
      "max_depth = 336 accuracy : 0.5991902834008097\n",
      "max_depth = 337 accuracy : 0.5991902834008097\n",
      "max_depth = 338 accuracy : 0.5991902834008097\n",
      "max_depth = 339 accuracy : 0.5991902834008097\n",
      "max_depth = 340 accuracy : 0.5991902834008097\n",
      "max_depth = 341 accuracy : 0.5991902834008097\n",
      "max_depth = 342 accuracy : 0.5991902834008097\n",
      "max_depth = 343 accuracy : 0.5991902834008097\n",
      "max_depth = 344 accuracy : 0.5991902834008097\n",
      "max_depth = 345 accuracy : 0.5991902834008097\n",
      "max_depth = 346 accuracy : 0.5991902834008097\n",
      "max_depth = 347 accuracy : 0.5991902834008097\n",
      "max_depth = 348 accuracy : 0.5991902834008097\n",
      "max_depth = 349 accuracy : 0.5991902834008097\n",
      "max_depth = 350 accuracy : 0.5991902834008097\n",
      "max_depth = 351 accuracy : 0.5991902834008097\n",
      "max_depth = 352 accuracy : 0.5991902834008097\n",
      "max_depth = 353 accuracy : 0.5991902834008097\n",
      "max_depth = 354 accuracy : 0.5991902834008097\n",
      "max_depth = 355 accuracy : 0.5991902834008097\n",
      "max_depth = 356 accuracy : 0.5991902834008097\n",
      "max_depth = 357 accuracy : 0.5991902834008097\n",
      "max_depth = 358 accuracy : 0.5991902834008097\n",
      "max_depth = 359 accuracy : 0.5991902834008097\n",
      "max_depth = 360 accuracy : 0.5991902834008097\n",
      "max_depth = 361 accuracy : 0.5991902834008097\n",
      "max_depth = 362 accuracy : 0.5991902834008097\n",
      "max_depth = 363 accuracy : 0.5991902834008097\n",
      "max_depth = 364 accuracy : 0.5991902834008097\n",
      "max_depth = 365 accuracy : 0.5991902834008097\n",
      "max_depth = 366 accuracy : 0.5991902834008097\n",
      "max_depth = 367 accuracy : 0.5991902834008097\n",
      "max_depth = 368 accuracy : 0.5991902834008097\n",
      "max_depth = 369 accuracy : 0.5991902834008097\n",
      "max_depth = 370 accuracy : 0.5991902834008097\n",
      "max_depth = 371 accuracy : 0.5991902834008097\n",
      "max_depth = 372 accuracy : 0.5991902834008097\n",
      "max_depth = 373 accuracy : 0.5991902834008097\n",
      "max_depth = 374 accuracy : 0.5991902834008097\n",
      "max_depth = 375 accuracy : 0.5991902834008097\n",
      "max_depth = 376 accuracy : 0.5991902834008097\n",
      "max_depth = 377 accuracy : 0.5991902834008097\n",
      "max_depth = 378 accuracy : 0.5991902834008097\n",
      "max_depth = 379 accuracy : 0.5991902834008097\n",
      "max_depth = 380 accuracy : 0.5991902834008097\n",
      "max_depth = 381 accuracy : 0.5991902834008097\n",
      "max_depth = 382 accuracy : 0.5991902834008097\n",
      "max_depth = 383 accuracy : 0.5991902834008097\n",
      "max_depth = 384 accuracy : 0.5991902834008097\n",
      "max_depth = 385 accuracy : 0.5991902834008097\n",
      "max_depth = 386 accuracy : 0.5991902834008097\n",
      "max_depth = 387 accuracy : 0.5991902834008097\n",
      "max_depth = 388 accuracy : 0.5991902834008097\n",
      "max_depth = 389 accuracy : 0.5991902834008097\n",
      "max_depth = 390 accuracy : 0.5991902834008097\n",
      "max_depth = 391 accuracy : 0.5991902834008097\n",
      "max_depth = 392 accuracy : 0.5991902834008097\n",
      "max_depth = 393 accuracy : 0.5991902834008097\n",
      "max_depth = 394 accuracy : 0.5991902834008097\n",
      "max_depth = 395 accuracy : 0.5991902834008097\n",
      "max_depth = 396 accuracy : 0.5991902834008097\n",
      "max_depth = 397 accuracy : 0.5991902834008097\n",
      "max_depth = 398 accuracy : 0.5991902834008097\n",
      "max_depth = 399 accuracy : 0.5991902834008097\n",
      "max_depth = 400 accuracy : 0.5991902834008097\n"
     ]
    }
   ],
   "source": [
    "for i in range(300,401):\n",
    "    dt5 = DecisionTreeClassifier(min_samples_leaf = i)\n",
    "    dt5.fit(xtrain,ytrain)\n",
    "    ypred = dt5.predict(xtest)\n",
    "    ac = accuracy_score(ytest,ypred)\n",
    "    print(f\"max_depth = {i} accuracy : {ac}\")"
   ]
  },
  {
   "cell_type": "code",
   "execution_count": 40,
   "id": "e9e19295",
   "metadata": {},
   "outputs": [
    {
     "name": "stdout",
     "output_type": "stream",
     "text": [
      "0.7935222672064778\n",
      "              precision    recall  f1-score   support\n",
      "\n",
      "           0       0.00      0.00      0.00        11\n",
      "           1       0.00      0.00      0.00        22\n",
      "           2       0.92      0.88      0.90        91\n",
      "           3       0.00      0.00      0.00         7\n",
      "           4       0.72      1.00      0.84       116\n",
      "\n",
      "    accuracy                           0.79       247\n",
      "   macro avg       0.33      0.38      0.35       247\n",
      "weighted avg       0.68      0.79      0.73       247\n",
      "\n"
     ]
    },
    {
     "data": {
      "text/html": [
       "<style>#sk-container-id-4 {color: black;background-color: white;}#sk-container-id-4 pre{padding: 0;}#sk-container-id-4 div.sk-toggleable {background-color: white;}#sk-container-id-4 label.sk-toggleable__label {cursor: pointer;display: block;width: 100%;margin-bottom: 0;padding: 0.3em;box-sizing: border-box;text-align: center;}#sk-container-id-4 label.sk-toggleable__label-arrow:before {content: \"▸\";float: left;margin-right: 0.25em;color: #696969;}#sk-container-id-4 label.sk-toggleable__label-arrow:hover:before {color: black;}#sk-container-id-4 div.sk-estimator:hover label.sk-toggleable__label-arrow:before {color: black;}#sk-container-id-4 div.sk-toggleable__content {max-height: 0;max-width: 0;overflow: hidden;text-align: left;background-color: #f0f8ff;}#sk-container-id-4 div.sk-toggleable__content pre {margin: 0.2em;color: black;border-radius: 0.25em;background-color: #f0f8ff;}#sk-container-id-4 input.sk-toggleable__control:checked~div.sk-toggleable__content {max-height: 200px;max-width: 100%;overflow: auto;}#sk-container-id-4 input.sk-toggleable__control:checked~label.sk-toggleable__label-arrow:before {content: \"▾\";}#sk-container-id-4 div.sk-estimator input.sk-toggleable__control:checked~label.sk-toggleable__label {background-color: #d4ebff;}#sk-container-id-4 div.sk-label input.sk-toggleable__control:checked~label.sk-toggleable__label {background-color: #d4ebff;}#sk-container-id-4 input.sk-hidden--visually {border: 0;clip: rect(1px 1px 1px 1px);clip: rect(1px, 1px, 1px, 1px);height: 1px;margin: -1px;overflow: hidden;padding: 0;position: absolute;width: 1px;}#sk-container-id-4 div.sk-estimator {font-family: monospace;background-color: #f0f8ff;border: 1px dotted black;border-radius: 0.25em;box-sizing: border-box;margin-bottom: 0.5em;}#sk-container-id-4 div.sk-estimator:hover {background-color: #d4ebff;}#sk-container-id-4 div.sk-parallel-item::after {content: \"\";width: 100%;border-bottom: 1px solid gray;flex-grow: 1;}#sk-container-id-4 div.sk-label:hover label.sk-toggleable__label {background-color: #d4ebff;}#sk-container-id-4 div.sk-serial::before {content: \"\";position: absolute;border-left: 1px solid gray;box-sizing: border-box;top: 0;bottom: 0;left: 50%;z-index: 0;}#sk-container-id-4 div.sk-serial {display: flex;flex-direction: column;align-items: center;background-color: white;padding-right: 0.2em;padding-left: 0.2em;position: relative;}#sk-container-id-4 div.sk-item {position: relative;z-index: 1;}#sk-container-id-4 div.sk-parallel {display: flex;align-items: stretch;justify-content: center;background-color: white;position: relative;}#sk-container-id-4 div.sk-item::before, #sk-container-id-4 div.sk-parallel-item::before {content: \"\";position: absolute;border-left: 1px solid gray;box-sizing: border-box;top: 0;bottom: 0;left: 50%;z-index: -1;}#sk-container-id-4 div.sk-parallel-item {display: flex;flex-direction: column;z-index: 1;position: relative;background-color: white;}#sk-container-id-4 div.sk-parallel-item:first-child::after {align-self: flex-end;width: 50%;}#sk-container-id-4 div.sk-parallel-item:last-child::after {align-self: flex-start;width: 50%;}#sk-container-id-4 div.sk-parallel-item:only-child::after {width: 0;}#sk-container-id-4 div.sk-dashed-wrapped {border: 1px dashed gray;margin: 0 0.4em 0.5em 0.4em;box-sizing: border-box;padding-bottom: 0.4em;background-color: white;}#sk-container-id-4 div.sk-label label {font-family: monospace;font-weight: bold;display: inline-block;line-height: 1.2em;}#sk-container-id-4 div.sk-label-container {text-align: center;}#sk-container-id-4 div.sk-container {/* jupyter's `normalize.less` sets `[hidden] { display: none; }` but bootstrap.min.css set `[hidden] { display: none !important; }` so we also need the `!important` here to be able to override the default hidden behavior on the sphinx rendered scikit-learn.org. See: https://github.com/scikit-learn/scikit-learn/issues/21755 */display: inline-block !important;position: relative;}#sk-container-id-4 div.sk-text-repr-fallback {display: none;}</style><div id=\"sk-container-id-4\" class=\"sk-top-container\"><div class=\"sk-text-repr-fallback\"><pre>DecisionTreeClassifier(min_samples_leaf=250)</pre><b>In a Jupyter environment, please rerun this cell to show the HTML representation or trust the notebook. <br />On GitHub, the HTML representation is unable to render, please try loading this page with nbviewer.org.</b></div><div class=\"sk-container\" hidden><div class=\"sk-item\"><div class=\"sk-estimator sk-toggleable\"><input class=\"sk-toggleable__control sk-hidden--visually\" id=\"sk-estimator-id-4\" type=\"checkbox\" checked><label for=\"sk-estimator-id-4\" class=\"sk-toggleable__label sk-toggleable__label-arrow\">DecisionTreeClassifier</label><div class=\"sk-toggleable__content\"><pre>DecisionTreeClassifier(min_samples_leaf=250)</pre></div></div></div></div></div>"
      ],
      "text/plain": [
       "DecisionTreeClassifier(min_samples_leaf=250)"
      ]
     },
     "execution_count": 40,
     "metadata": {},
     "output_type": "execute_result"
    }
   ],
   "source": [
    "dt6 = DecisionTreeClassifier(min_samples_leaf = 250)\n",
    "mymodel(dt6)"
   ]
  },
  {
   "cell_type": "code",
   "execution_count": 41,
   "id": "e42e8017",
   "metadata": {},
   "outputs": [
    {
     "name": "stdout",
     "output_type": "stream",
     "text": [
      "train score :0.8377281947261663 \n",
      " test score : 0.7935222672064778\n"
     ]
    }
   ],
   "source": [
    "train = dt6.score(xtrain,ytrain)\n",
    "test = dt6.score(xtest,ytest)\n",
    "print(f\"train score :{train} \\n test score : {test}\")"
   ]
  },
  {
   "cell_type": "markdown",
   "id": "e58948aa",
   "metadata": {},
   "source": [
    "# Random Forest Classifier"
   ]
  },
  {
   "cell_type": "code",
   "execution_count": 42,
   "id": "d0944838",
   "metadata": {},
   "outputs": [
    {
     "name": "stdout",
     "output_type": "stream",
     "text": [
      "              precision    recall  f1-score   support\n",
      "\n",
      "           0       0.00      0.00      0.00        11\n",
      "           1       0.44      0.18      0.26        22\n",
      "           2       0.95      0.89      0.92        91\n",
      "           3       1.00      0.43      0.60         7\n",
      "           4       0.74      0.95      0.83       116\n",
      "\n",
      "    accuracy                           0.80       247\n",
      "   macro avg       0.63      0.49      0.52       247\n",
      "weighted avg       0.77      0.80      0.77       247\n",
      "\n"
     ]
    }
   ],
   "source": [
    "from sklearn.ensemble import RandomForestClassifier\n",
    "rc = RandomForestClassifier()\n",
    "rc.fit(xtrain,ytrain)\n",
    "ypred = rc.predict(xtest)\n",
    "print(classification_report(ytest,ypred))"
   ]
  },
  {
   "cell_type": "markdown",
   "id": "e6af831a",
   "metadata": {},
   "source": [
    "# Boosting"
   ]
  },
  {
   "cell_type": "markdown",
   "id": "212514a0",
   "metadata": {},
   "source": [
    "# i - Adaboost Classifier"
   ]
  },
  {
   "cell_type": "code",
   "execution_count": 43,
   "id": "456c1f70",
   "metadata": {},
   "outputs": [
    {
     "name": "stdout",
     "output_type": "stream",
     "text": [
      "              precision    recall  f1-score   support\n",
      "\n",
      "           0       0.06      0.18      0.09        11\n",
      "           1       0.33      0.05      0.08        22\n",
      "           2       0.47      0.98      0.63        91\n",
      "           3       0.00      0.00      0.00         7\n",
      "           4       0.58      0.09      0.16       116\n",
      "\n",
      "    accuracy                           0.42       247\n",
      "   macro avg       0.29      0.26      0.19       247\n",
      "weighted avg       0.48      0.42      0.32       247\n",
      "\n"
     ]
    }
   ],
   "source": [
    "from sklearn.ensemble import AdaBoostClassifier\n",
    "ada = AdaBoostClassifier()\n",
    "ada.fit(xtrain,ytrain)\n",
    "ypred = ada.predict(xtest)\n",
    "print(classification_report(ytest,ypred))"
   ]
  },
  {
   "cell_type": "markdown",
   "id": "0fcaa2ae",
   "metadata": {},
   "source": [
    "# ii - Gradient Boosting"
   ]
  },
  {
   "cell_type": "code",
   "execution_count": 44,
   "id": "e5db0361",
   "metadata": {},
   "outputs": [
    {
     "name": "stdout",
     "output_type": "stream",
     "text": [
      "              precision    recall  f1-score   support\n",
      "\n",
      "           0       0.67      0.18      0.29        11\n",
      "           1       0.33      0.05      0.08        22\n",
      "           2       0.92      0.88      0.90        91\n",
      "           3       1.00      0.43      0.60         7\n",
      "           4       0.74      0.96      0.83       116\n",
      "\n",
      "    accuracy                           0.80       247\n",
      "   macro avg       0.73      0.50      0.54       247\n",
      "weighted avg       0.77      0.80      0.76       247\n",
      "\n"
     ]
    }
   ],
   "source": [
    "from sklearn.ensemble import GradientBoostingClassifier\n",
    "gbc = GradientBoostingClassifier()\n",
    "gbc.fit(xtrain,ytrain)\n",
    "ypred = gbc.predict(xtest)\n",
    "print(classification_report(ytest,ypred))"
   ]
  },
  {
   "cell_type": "markdown",
   "id": "631fff1b",
   "metadata": {},
   "source": [
    "# iii - XG Boosting"
   ]
  },
  {
   "cell_type": "code",
   "execution_count": 45,
   "id": "7b2ec707",
   "metadata": {},
   "outputs": [
    {
     "name": "stdout",
     "output_type": "stream",
     "text": [
      "              precision    recall  f1-score   support\n",
      "\n",
      "           0       0.29      0.18      0.22        11\n",
      "           1       0.40      0.18      0.25        22\n",
      "           2       0.92      0.90      0.91        91\n",
      "           3       1.00      0.43      0.60         7\n",
      "           4       0.76      0.91      0.83       116\n",
      "\n",
      "    accuracy                           0.79       247\n",
      "   macro avg       0.67      0.52      0.56       247\n",
      "weighted avg       0.77      0.79      0.77       247\n",
      "\n"
     ]
    }
   ],
   "source": [
    "from xgboost import XGBClassifier\n",
    "xgb = XGBClassifier()\n",
    "xgb.fit(xtrain,ytrain)\n",
    "ypred = xgb.predict(xtest)\n",
    "print(classification_report(ytest,ypred))"
   ]
  },
  {
   "cell_type": "markdown",
   "id": "a2cbbc82",
   "metadata": {},
   "source": [
    "# From the above obesrvations we can see that Decision Tree max depth 5 gives the best accuracy of 83% hence we will be choosing Decision Tree Classifier."
   ]
  }
 ],
 "metadata": {
  "kernelspec": {
   "display_name": "Python 3 (ipykernel)",
   "language": "python",
   "name": "python3"
  },
  "language_info": {
   "codemirror_mode": {
    "name": "ipython",
    "version": 3
   },
   "file_extension": ".py",
   "mimetype": "text/x-python",
   "name": "python",
   "nbconvert_exporter": "python",
   "pygments_lexer": "ipython3",
   "version": "3.11.3"
  }
 },
 "nbformat": 4,
 "nbformat_minor": 5
}
